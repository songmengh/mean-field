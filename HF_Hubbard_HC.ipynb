{
  "cells": [
    {
      "cell_type": "markdown",
      "metadata": {
        "id": "1C9isVXAXL8e"
      },
      "source": [
        "# Mean-field:  The Hartree-Fock (HF) Approximation\n",
        "## Honeycomb Latice Hubbard model\n",
        "\n",
        "This notebook contains breif notes and several sample codes of the HF approximation for pedagogical purpose. The following text and codes are prepared by Mr.[Ting-Tung Wang](https://quantummc.xyz/members/ting-tung-wang/), Mr.[Menghan Song](https://quantummc.xyz/members/menghan-song/) and [ZYM](https://quantummc.xyz/members/ziyang-meng/). \n",
        "\n",
        "In this notebook, we present both the self-consistent method and the gradient decend method for obtaining the ground state of the Hubbard model. One may want to review [HF for square lattice](https://colab.research.google.com/github/songmengh/mean-field/blob/main/HF_Hubbard_square.ipynb) for more details.\n",
        "\n",
        "This note utilise the following useful references:\n",
        "1. [Lechermann, Model Hamiltonians and Basic Techniques](https://www.researchgate.net/publication/299842893_Model_Hamiltonians_and_Basic_Techniques)\n",
        "2. [M.Raczkowski, Phys. Rev. B.101.125103](https://journals.aps.org/prb/abstract/10.1103/PhysRevB.101.125103)\n",
        "3. [H.Feldner, Z.Meng, Phys. Rev. B.81.115416](https://journals.aps.org/prb/abstract/10.1103/PhysRevB.81.115416)\n",
        "4. [Hirsch, Phys. Rev. B 31, 4403 (1985)](https://journals.aps.org/prb/abstract/10.1103/PhysRevB.31.4403)"
      ]
    },
    {
      "cell_type": "markdown",
      "metadata": {
        "id": "MIJLFdtfXL8i"
      },
      "source": [
        "### 1. Hubbard model: Honeycomb Lattice\n",
        "\n",
        "Considering the half-filling case, the Hamiltonian of the hubbard model is,\n",
        "\n",
        "$$\n",
        "H=-t\\mathop{\\sum}\\limits_{\\langle i,j \\rangle \\sigma}c_{i\\sigma}^\\dagger c_{j\\sigma}+h.c.+U\\mathop{\\sum}\\limits_i (n_{i\\uparrow}-\\frac{1}{2})(n_{i\\downarrow}-\\frac{1}{2})=H_T+H_U  \\ \\ \\  (U>0),\n",
        "$$\n",
        "where $\\langle i,j \\rangle$ denotes the nearest neighbour hopping on the honeycomb(HC) lattice. \n",
        "\n",
        "The figure below shows the honeycomb lattice,\n",
        "\n",
        "\n",
        "<img src=\"https://raw.githubusercontent.com/songmengh/mean-field/main/figures/HC_lattice.png\" width=250 height=250/>\n",
        "\n",
        "Here, one site feels three nearest neighbour interactions while it feels four in square lattice. And $\\vec{a_1} ,\\vec{a_2} $ are the two primitive vectors. $\\vec{a_1}= \\left ( \\sqrt3/2,1/2 \\right ) ,\\vec{a_2}=\\left ( \\sqrt3/2,-1/2 \\right )  $.\n",
        "\n",
        "For the free fermion case, i.e. $U=0$, the dispersion relation is given by:\n",
        "$$\n",
        "E_k=\\pm \\sqrt{3+2 \\cos \\sqrt{3} k_y+4 \\cos \\left(\\frac{3 k_x}{2}\\right) \\cos \\left(\\frac{\\sqrt{3} k_y}{2}\\right)}\n",
        "$$\n",
        "<img src=\"https://raw.githubusercontent.com/songmengh/mean-field/main/figures/HC_disp.png\" width=250 height=250/>"
      ]
    },
    {
      "cell_type": "markdown",
      "metadata": {
        "id": "U7k7jyw_XL8i"
      },
      "source": [
        "For the square lattice at half-filling, perfect nesting drives the system into an antiferromagnetic phase for any finite on-site repulsion $U>0$, and thus the gap opens for any finite $U$. By contrast, while the honeycomb lattice is also bipartite, the half-filled Hubbard model on this lattice is distinguished by a vanishing density of states at the Fermi level. [[2](https://journals.aps.org/prb/abstract/10.1103/PhysRevB.101.125103)]\n",
        "\n",
        "<img src=\"https://raw.githubusercontent.com/songmengh/mean-field/main/figures/dos_HC.png\" width=250 height=250/>\n",
        "\n",
        "Therefore, a relative large $U_c$ is requried to drive the system into the anitferromagnetic phase. One should notice a phase transition between the paramagnetic semimetal and the antiferromagnetic insulator."
      ]
    },
    {
      "cell_type": "markdown",
      "metadata": {
        "id": "Fjt9yj1hXL8j"
      },
      "source": [
        "### 2. Code"
      ]
    },
    {
      "cell_type": "markdown",
      "metadata": {
        "id": "gaMsExF_XL8j"
      },
      "source": [
        "#### 2.1 Self-consistent"
      ]
    },
    {
      "cell_type": "code",
      "execution_count": 1,
      "metadata": {
        "id": "RE851dY5XL8k"
      },
      "outputs": [],
      "source": [
        "import numpy as np\n",
        "import matplotlib.pyplot as plt\n",
        "import seaborn as sns\n",
        "import pandas as pd\n",
        " "
      ]
    },
    {
      "cell_type": "code",
      "execution_count": null,
      "metadata": {
        "id": "JlnmQkmrXL8l"
      },
      "outputs": [],
      "source": [
        "def cart_coord(i,Lx): # i is the site index starts from 1.\n",
        "    ix = i % Lx     \n",
        "    iy = i//Lx + 1\n",
        "    if i % Lx == 0: \n",
        "        iy -= 1\n",
        "        ix = Lx\n",
        "    return ix,iy\n",
        "\n",
        "def linear_index(ix,iy,Lx):  #output linear index starts from 1.\n",
        "    return int((iy-1)*Lx+ix)\n",
        "\n",
        "def MakeSublattice(Lx,Ly):\n",
        "    N_pc=Lx*Ly\n",
        "    sub_A=np.zeros(int(N_pc/2))\n",
        "    sub_B=np.zeros(int(N_pc/2))\n",
        "    sub_indexa=0\n",
        "    sub_indexb=0\n",
        "    for subix in range(Lx):\n",
        "        for subiy in range(Ly):\n",
        "            if np.mod(subix+subiy+1,2)==0:\n",
        "                sub_A[sub_indexa]=subix+subiy*Ly\n",
        "                sub_indexa=sub_indexa+1\n",
        "            else:\n",
        "                sub_B[sub_indexb]=subix+subiy*Ly\n",
        "                sub_indexb=sub_indexb+1\n",
        "    return sub_A, sub_B\n",
        "\n",
        "def Neighbor(index,Lx,Ly):\n",
        "    ix,iy=cart_coord(index,Lx)\n",
        "    up_y = iy - 1     # Here we denote ⬇ as the 'up' direction for y coordinate.  \n",
        "    if up_y <1:\n",
        "        up_y=Ly\n",
        "    up = linear_index(ix,up_y,Lx)\n",
        "    \n",
        "    down_y = iy+1\n",
        "    if down_y > Ly:\n",
        "        down_y = 1\n",
        "    down=linear_index(ix,down_y,Lx)\n",
        "    \n",
        "    left_x=ix-1\n",
        "    if left_x < 1:\n",
        "        left_x = Lx\n",
        "    left = linear_index(left_x,iy,Lx)\n",
        "    \n",
        "    right_x = ix+1\n",
        "    if right_x > Lx:\n",
        "        right_x = 1\n",
        "    right = linear_index(right_x,iy,Lx)\n",
        "    return up,down,left,right\n",
        "\n",
        "def gen_auxf(MatDim,N_time_slice):\n",
        "    auxf = np.zeros((MatDim,N_time_slice),dtype=int)\n",
        "    for i in range(MatDim):\n",
        "        for j in range(N_time_slice):\n",
        "            auxf[i][j]= int(2*int(2*np.random.random())-1)\n",
        "    return auxf\n",
        "\n",
        "def GetK(Lx,Ly,t):\n",
        "    MatDim = Lx*Ly\n",
        "    N_pc = Lx*Ly\n",
        "    sub_A, sub_B = MakeSublattice(Lx,Ly)\n",
        "    K_mat = np.zeros((MatDim,MatDim))\n",
        "    for i in range(N_pc):\n",
        "        down = Neighbor(i+1,Lx,Ly)[1]-1\n",
        "        if i in sub_A:\n",
        "            left = Neighbor(i+1,Lx,Ly)[2]-1\n",
        "            K_mat[i][down]-=t\n",
        "            K_mat[down][i]-=t\n",
        "            K_mat[i][left]-=t\n",
        "            K_mat[left][i]-=t\n",
        "        elif i in sub_B:\n",
        "            right = Neighbor(i+1,Lx,Ly)[3]-1\n",
        "            K_mat[i][down]-=t\n",
        "            K_mat[down][i]-=t\n",
        "            #K_mat[i][right]-=t\n",
        "            #K_mat[right][i]-=t\n",
        "    return K_mat\n"
      ]
    },
    {
      "cell_type": "code",
      "execution_count": null,
      "metadata": {
        "id": "oiGzdbSXXL8m"
      },
      "outputs": [],
      "source": [
        "def GetHup(Lx,Ly,nup,ndn,K,U):\n",
        "    N = Lx*Ly\n",
        "    Diag = np.diag(ndn)*U\n",
        "    Hup = np.zeros((N,N))\n",
        "    Hup += K\n",
        "    Hup += Diag\n",
        "    #Hup -= 1/2*U*sum(nup*ndn)\n",
        "    return Hup"
      ]
    },
    {
      "cell_type": "code",
      "execution_count": null,
      "metadata": {
        "id": "CnfNWP7OXL8n"
      },
      "outputs": [],
      "source": [
        "def GetHdn(Lx,Ly,nup,ndn,K,U):\n",
        "    N = Lx*Ly\n",
        "    Diag = np.diag(nup)*U\n",
        "    Hdn = np.zeros((N,N))\n",
        "    Hdn += K\n",
        "    Hdn += Diag\n",
        "    #Hdn -= 1/2*U*sum(nup*ndn)\n",
        "    return Hdn"
      ]
    },
    {
      "cell_type": "code",
      "execution_count": null,
      "metadata": {
        "id": "HduN17J4XL8n"
      },
      "outputs": [],
      "source": [
        "def GetEigen(H):\n",
        "    eig_value=np.real(np.linalg.eig(H)[0])\n",
        "    eig_vec=eig_vec=np.real(np.linalg.eig(H)[1]) \n",
        "    idx_sorted1 = np.argsort(eig_value)\n",
        "    eig_value=eig_value[idx_sorted1]\n",
        "    eig_vec=eig_vec[:,idx_sorted1]\n",
        "    return eig_value,eig_vec"
      ]
    },
    {
      "cell_type": "code",
      "execution_count": null,
      "metadata": {
        "id": "5aSiMU6pXL8o"
      },
      "outputs": [],
      "source": [
        "def Getnup(upvecs,N):\n",
        "    nup = np.zeros((N))\n",
        "    for i in range(N):\n",
        "        value = 0\n",
        "        for j in range(N//2):\n",
        "            value += upvecs[i][j]**2\n",
        "        nup[i] = value\n",
        "    return nup"
      ]
    },
    {
      "cell_type": "code",
      "execution_count": null,
      "metadata": {
        "id": "yiNgiEO1XL8o"
      },
      "outputs": [],
      "source": [
        "def Getndn(dnvecs,N):\n",
        "    ndn = np.zeros((N))\n",
        "    for i in range(N):\n",
        "        value = 0\n",
        "        for j in range(N//2):\n",
        "            value += dnvecs[i][j]**2\n",
        "        ndn[i] = value\n",
        "    return ndn        "
      ]
    },
    {
      "cell_type": "code",
      "execution_count": null,
      "metadata": {
        "id": "VZN_YL0jXL8p"
      },
      "outputs": [],
      "source": [
        "def Iteration(Lx,Ly,U):\n",
        "    \n",
        "    N = Lx*Ly\n",
        "    t = 1\n",
        "    K = GetK(Lx,Ly,t)\n",
        "    delt = 0.0001\n",
        "    alpha = 0.6\n",
        "    times=0\n",
        "    \n",
        "    #initial n\n",
        "    nup = np.random.random((N))\n",
        "    ndn = np.random.random((N))\n",
        "   \n",
        "    E1=E2=0\n",
        "    while True:\n",
        "        Hup = GetHup(Lx,Ly,nup,ndn,K,U)\n",
        "        Hdn = GetHdn(Lx,Ly,nup,ndn,K,U)\n",
        "        eig_eup,eig_vup = GetEigen(Hup)\n",
        "        eig_edn,eig_vdn = GetEigen(Hdn)\n",
        "        \n",
        "        Eup = sum(eig_eup[:(N//2)])\n",
        "        Edn = sum(eig_edn[:(N//2)])\n",
        "        E = Eup+Edn\n",
        "        \n",
        "        E1 = E2\n",
        "        E2 = E\n",
        "        \n",
        "        nup0 = nup\n",
        "        ndn0 = ndn\n",
        "        \n",
        "        nup1 = Getnup(eig_vup,N)\n",
        "        ndn1 = Getndn(eig_vdn,N)\n",
        "        \n",
        "        nup_new = (1-alpha)*nup0+alpha*nup1\n",
        "        ndn_new = (1-alpha)*ndn0+alpha*ndn1\n",
        "        \n",
        "        diffE = abs(E2-E1)\n",
        "        diffup = abs(sum((nup_new-nup0)))\n",
        "        diffdn = abs(sum((ndn_new-ndn0)))\n",
        "        \n",
        "        nup = nup_new\n",
        "        ndn = ndn_new\n",
        "        \n",
        "        if diffup < delt**2 and diffdn < delt**2 and diffE<0.0001:\n",
        "            break\n",
        "        \n",
        "        times+=1\n",
        "    return nup,ndn,E"
      ]
    },
    {
      "cell_type": "code",
      "execution_count": null,
      "metadata": {
        "id": "sB0psn8tXL8p"
      },
      "outputs": [],
      "source": [
        "def Run(Lx,Ly,U):\n",
        "    N = Lx*Ly\n",
        "    nitr = 50\n",
        "    nups = np.zeros((nitr,N))\n",
        "    ndns = np.zeros((nitr,N))\n",
        "    Es = np.zeros((nitr))\n",
        "    for i in range(nitr):\n",
        "        \n",
        "        nup,ndn,E = Iteration(Lx,Ly,U)\n",
        "        nups[i]=nup\n",
        "        ndns[i]=ndn\n",
        "        Es[i]=E\n",
        "        #print(E)\n",
        "    idx = np.argmin(Es)\n",
        "    nup_gs = nups[idx]\n",
        "    ndn_gs = ndns[idx]\n",
        "    E_gs = Es[idx]\n",
        "    \n",
        "    return nup_gs,ndn_gs,E_gs"
      ]
    },
    {
      "cell_type": "code",
      "execution_count": null,
      "metadata": {
        "id": "gKlLcnpEXL8p",
        "outputId": "4c704e72-f9ba-41ab-cb86-4b1988d1d720"
      },
      "outputs": [
        {
          "name": "stdout",
          "output_type": "stream",
          "text": [
            "0\n",
            "10\n",
            "20\n"
          ]
        }
      ],
      "source": [
        "U_lst = np.arange(0.01,5,0.2)\n",
        "m_lst = []\n",
        "for i in range(len(U_lst)):\n",
        "    if i%10==0:\n",
        "        print(i)\n",
        "    U = U_lst[i]\n",
        "    nup,ndn,E = Run(6,6,U)\n",
        "    m = abs(nup[0]-ndn[0])/2\n",
        "    m_lst.append(m)"
      ]
    },
    {
      "cell_type": "code",
      "execution_count": null,
      "metadata": {
        "scrolled": true,
        "id": "kUzU65QEXL8q",
        "outputId": "703a8f57-e106-4ad3-f54a-68e65f2e3bfe"
      },
      "outputs": [
        {
          "data": {
            "text/plain": [
              "<matplotlib.legend.Legend at 0x7fccee1817f0>"
            ]
          },
          "execution_count": 16,
          "metadata": {},
          "output_type": "execute_result"
        },
        {
          "data": {
            "image/png": "[encoded data removed]",
            "text/plain": [
              "<Figure size 432x288 with 1 Axes>"
            ]
          },
          "metadata": {
            "needs_background": "light"
          },
          "output_type": "display_data"
        }
      ],
      "source": [
        "plt.scatter(U_lst,m_lst,label='L=6')\n",
        "plt.title(r'$m\\ VS\\ U$')\n",
        "plt.xlabel(r'$U$')\n",
        "plt.ylabel(r'$m$')\n",
        "plt.legend()"
      ]
    },
    {
      "cell_type": "markdown",
      "metadata": {
        "id": "DNjzj_cTXL8q"
      },
      "source": [
        "#### 2.2 Gradient-descent algorithm"
      ]
    },
    {
      "cell_type": "code",
      "execution_count": 2,
      "metadata": {
        "id": "ReZkRqXYXL8r"
      },
      "outputs": [],
      "source": [
        "def getdedm(U,Ne,e0,m):\n",
        "    '''\n",
        "    return the derivative dE/dm for gradient descend\n",
        "    '''\n",
        "    dedm = -2*(U**2)*m*(1/np.sqrt((m**2)*(U**2)+e0)).sum()/Ne + 2*U*m\n",
        "    return dedm\n",
        "\n",
        "def gete(U,Ne,e0,m):\n",
        "    '''\n",
        "    get energy\n",
        "    '''\n",
        "    e = -2*(np.sqrt((m**2)*(U**2)+e0)).sum()/Ne+U/2+U*m**2      \n",
        "    return e"
      ]
    },
    {
      "cell_type": "code",
      "execution_count": 4,
      "metadata": {
        "id": "vaSvCRjOXL8r"
      },
      "outputs": [],
      "source": [
        "Ulist = np.arange(0.1,5,0.1)\n",
        "Llist = [30,60,90,120,150]\n",
        "alpha=0.1\n",
        "\n",
        "e_end = np.inf*np.ones((len(Llist),len(Ulist)))\n",
        "m_end = np.zeros((len(Llist),len(Ulist)))\n",
        "itr_end = np.zeros((len(Llist),len(Ulist)))\n",
        "\n",
        "for i in range(len(Llist)):\n",
        "    L = Llist[i]\n",
        "    Ne=2*L**2\n",
        "    e0 = np.zeros((L,L))\n",
        "    for kx_point in range(L):\n",
        "        for ky_point in range(L):\n",
        "            k=kx_point*np.array([1/2,np.sqrt(3)/2])+ky_point*np.array([1/2,-np.sqrt(3)/2])/L*2*np.pi/np.sqrt(3)*2 #generate k vectors\n",
        "            dot1 = np.dot(k,np.array([np.sqrt(3)/2,1/2]))\n",
        "            dot2 = np.dot(k,np.array([np.sqrt(3)/2,-1/2]))\n",
        "            e0[kx_point,ky_point]=abs(1+np.exp(-1j*dot1*2*np.pi)+np.exp(-1j*dot2))**2\n",
        "    m=0\n",
        "    for j in range(len(Ulist)):\n",
        "        U = Ulist[j]\n",
        "        m+=0.0005*np.random.random()\n",
        "        error=1\n",
        "        itr=0\n",
        "        while abs(error)>10**-8:\n",
        "            error = alpha*getdedm(U,Ne,e0,m)\n",
        "            m -= error\n",
        "            itr += 1\n",
        "        e_end[i,j] = gete(U,Ne,e0,m)\n",
        "        m_end[i,j] = abs(m)\n",
        "        itr_end[i,j] = itr\n",
        "\n",
        "        \n",
        "            "
      ]
    },
    {
      "cell_type": "markdown",
      "metadata": {
        "id": "-J6TJj2QXL8r"
      },
      "source": [
        "Plot the result and compare with the literature value, $U_c\\approx 2.23$ [[2](https://journals.aps.org/prb/abstract/10.1103/PhysRevB.101.125103)] where the phase transition between the paramagnetic semimetal and the antiferromagnetic insulator happens."
      ]
    },
    {
      "cell_type": "code",
      "execution_count": 5,
      "metadata": {
        "id": "PdvJXaJnXL8r",
        "outputId": "224f3689-5629-429a-ede9-2248480cf29d",
        "colab": {
          "base_uri": "https://localhost:8080/",
          "height": 315
        }
      },
      "outputs": [
        {
          "output_type": "execute_result",
          "data": {
            "text/plain": [
              "Text(0, 0.5, '$m$')"
            ]
          },
          "metadata": {},
          "execution_count": 5
        },
        {
          "output_type": "display_data",
          "data": {
            "text/plain": [
              "<Figure size 432x288 with 1 Axes>"
            ],
            "image/png": "[encoded data removed]"
          },
          "metadata": {
            "needs_background": "light"
          }
        }
      ],
      "source": [
        "plt.plot(Ulist,m_end[0])\n",
        "plt.plot(Ulist,m_end[1])\n",
        "plt.plot(Ulist,m_end[2])\n",
        "plt.plot(Ulist,m_end[3])\n",
        "plt.plot(Ulist,m_end[4])\n",
        "plt.vlines(2.23,0,0.5,linestyles='-.')\n",
        "plt.ylim(-0.001,0.5)\n",
        "#plt.xlim(0.1,1)\n",
        "le_here=['L='+str(L) for L in Llist]+['$U_c=2.23$']\n",
        "plt.legend(le_here)\n",
        "plt.title('$m\\ VS\\  U$')\n",
        "plt.xlabel('$U$')\n",
        "plt.ylabel('$m$')"
      ]
    },
    {
      "cell_type": "code",
      "execution_count": 6,
      "metadata": {
        "id": "3Ag9thXAXL8s"
      },
      "outputs": [],
      "source": [
        "delta_end = np.zeros((len(Llist),len(Ulist)))\n",
        "delta_end[:] = m_end[:]\n",
        "for i in range(delta_end.shape[0]):\n",
        "    delta_end[i] = delta_end[i]*Ulist"
      ]
    },
    {
      "cell_type": "code",
      "execution_count": 7,
      "metadata": {
        "id": "L0UCAfK2XL8s",
        "outputId": "eab6e0ac-5276-42a2-f63e-0ba63fe8bda0",
        "colab": {
          "base_uri": "https://localhost:8080/",
          "height": 315
        }
      },
      "outputs": [
        {
          "output_type": "execute_result",
          "data": {
            "text/plain": [
              "Text(0, 0.5, '$\\\\Delta$')"
            ]
          },
          "metadata": {},
          "execution_count": 7
        },
        {
          "output_type": "display_data",
          "data": {
            "text/plain": [
              "<Figure size 432x288 with 1 Axes>"
            ],
            "image/png": "[encoded data removed]"
          },
          "metadata": {
            "needs_background": "light"
          }
        }
      ],
      "source": [
        "plt.plot(Ulist,delta_end[0])\n",
        "plt.plot(Ulist,delta_end[1])\n",
        "plt.plot(Ulist,delta_end[2])\n",
        "plt.plot(Ulist,delta_end[3])\n",
        "plt.plot(Ulist,delta_end[4])\n",
        "plt.vlines(2.23,0,2,linestyles='-.')\n",
        "#plt.ylim(-0.001,0.5)\n",
        "#plt.xlim(0.1,1)\n",
        "le_here=['L='+str(L) for L in Llist]+['$U_c=2.23$']\n",
        "plt.legend(le_here)\n",
        "plt.title('$\\Delta \\ VS\\  U$')\n",
        "plt.xlabel('$U$')\n",
        "plt.ylabel('$\\Delta$')\n"
      ]
    },
    {
      "cell_type": "markdown",
      "metadata": {
        "id": "j1khtrmLXL8s"
      },
      "source": [
        "# To be continued"
      ]
    },
    {
      "cell_type": "code",
      "execution_count": null,
      "metadata": {
        "id": "Q3t7utPBXL8t"
      },
      "outputs": [],
      "source": []
    }
  ],
  "metadata": {
    "kernelspec": {
      "display_name": "Python 3",
      "language": "python",
      "name": "python3"
    },
    "language_info": {
      "codemirror_mode": {
        "name": "ipython",
        "version": 3
      },
      "file_extension": ".py",
      "mimetype": "text/x-python",
      "name": "python",
      "nbconvert_exporter": "python",
      "pygments_lexer": "ipython3",
      "version": "3.8.5"
    },
    "colab": {
      "provenance": []
    }
  },
  "nbformat": 4,
  "nbformat_minor": 0
}