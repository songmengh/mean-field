{
 "cells": [
  {
   "cell_type": "markdown",
   "id": "d871251f",
   "metadata": {},
   "source": [
    "## Kagome Lattice "
   ]
  },
  {
   "cell_type": "markdown",
   "id": "310c9c5d",
   "metadata": {},
   "source": [
    "### Tight-binding dispersion relation for Kagome lattice\n",
    "\n",
    "<p align=\"center\">\n",
    "  <img src=\"./figures/kagome_lattice.png\" width=\"400px\" alt=\"aaa\" />\n",
    "</p>\n",
    "\n",
    "The Kagome lattice is shown above. There are 3 sites labeled A, B, C in one cell. The basis vecters are $\\mathbf{a_1}=(1,0)$,$\\; \\mathbf{a_1}=(\\frac{1}{2},\\frac{\\sqrt{3}}{2})$\n",
    "The Hamiltonian is \n",
    "\n",
    "$$\n",
    "H = H_{band}+H_U\n",
    "$$\n",
    "\n",
    "Here we use $a^{\\dagger}_{i\\pm \\tau_{j}}$ and $a_{i\\pm \\tau_{j}}$ to represent the creation and annihilaiton of an electron at site A in the cell located at $\\mathbf{r_i} \\pm \\mathbf{a_j}$ , similarly for site B and C. We neglected the spins notations when calculating the $H_{band}$ term. Considering only the nearest-neighbor hopping, $H_{band}$ becomes\n",
    "\n",
    "\\begin{aligned}\n",
    "H_{band}=-t\\sum_i\\Big(&a_i^\\dagger(b_i+c_i+b_{i-\\tau_1}+c_{i-\\tau_2})\\\\\n",
    "+&b_i^\\dagger(a_i+c_i+a_{i+\\tau_1}+c_{i+\\tau_1-\\tau_2})\\\\\n",
    "+&c_i^\\dagger(a_i+b_i+a_{i+\\tau_2}+b_{i+\\tau_2-\\tau_1})\\Big)\n",
    "\\end{aligned}\n",
    "\n",
    "Assuming that there are N cells, namely 3N sites, applying Fourier transform to $a_i$ $a_i^\\dagger$ (similarly for $b_i\\;b_i^\\dagger\\;c_i\\;c_i^\\dagger$)\n",
    "$$\n",
    "a_i = \\sqrt{\\frac{1}{N}}\\sum_\\mathbf{k}e^{i\\mathbf{k}\\cdot\\mathbf{r_i}}a_{\\mathbf{k}},\\quad\n",
    "a_i^\\dagger = \\sqrt{\\frac{1}{N}}\\sum_\\mathbf{k}e^{-i\\mathbf{k}\\cdot\\mathbf{r_i}}a_\\mathbf{k}^\\dagger\n",
    "$$\n",
    "\n",
    "and the relation\n",
    "\n",
    "$$\n",
    "\\sum_ie^{i\\mathbf{r_i}\\cdot(\\mathbf{k_1}-\\mathbf{k_2})}=N\\delta_{\\mathbf{k_1},\\mathbf{k_2}}\n",
    "$$\n",
    "\n",
    "we obtain \n",
    "\n",
    "$$\n",
    "\\begin{aligned}\n",
    "H_{band}=-t\\sum_\\mathbf{k}(&a_\\mathbf{k}^\\dagger b_\\mathbf{k}+a_\\mathbf{k}^\\dagger c_\\mathbf{k}+a_\\mathbf{k}^\\dagger b_{\\mathbf{k}}e^{-i\\mathbf{k}\\cdot\\mathbf{a_1}}+a_\\mathbf{k}^\\dagger c_\\mathbf{k}e^{-i\\mathbf{k}\\cdot\\mathbf{a_2}}\\\\\n",
    "+&b_\\mathbf{k}^\\dagger a_\\mathbf{k}+b_\\mathbf{k}^\\dagger c_\\mathbf{k}+b_\\mathbf{k}^\\dagger a_{\\mathbf{k}}e^{i\\mathbf{k}\\cdot\\mathbf{a_1}}+b_\\mathbf{k}^\\dagger c_\\mathbf{k}e^{i\\mathbf{k}\\cdot(\\mathbf{a_1}-\\mathbf{a_2})}\\\\\n",
    "+&c_\\mathbf{k}^\\dagger a_\\mathbf{k}+c_\\mathbf{k}^\\dagger b_\\mathbf{k}+c_\\mathbf{k}^\\dagger a_\\mathbf{k}e^{i\\mathbf{k}\\cdot\\mathbf{a_2}}+c_\\mathbf{k}^\\dagger b_\\mathbf{k}e^{i\\mathbf{k}\\cdot(\\mathbf{a_2}-\\mathbf{a_1})})\n",
    "\\end{aligned}\n",
    "$$\n",
    "\n",
    "$$\n",
    "=\\sum_\\mathbf{k}\\begin{pmatrix}\n",
    "  a_{\\mathbf{k}}^\\dagger & b_{\\mathbf{k}}^\\dagger & c_{\\mathbf{k}}^\\dagger\n",
    "\\end{pmatrix}\n",
    "\\begin{pmatrix}\n",
    "  0 & \\gamma_1 & \\gamma_2 \\\\[0.5ex]\n",
    "  \\gamma_1^* & 0 & \\gamma_3 \\\\[0.5ex]\n",
    "  \\gamma_2^* & \\gamma_3^* & 0\n",
    "\\end{pmatrix}\n",
    "\\begin{pmatrix}\n",
    "  a_{\\mathbf{k}} \\\\ b_{\\mathbf{k}} \\\\ c_{\\mathbf{k}}\n",
    "\\end{pmatrix}.\n",
    "$$\n",
    "\n",
    "where \n",
    "\n",
    "$$\n",
    "\\gamma_1 = -t(1+e^{-i\\mathbf{k}\\cdot\\mathbf{a_1}})\\quad \\gamma_2 = -t(1+e^{-i\\mathbf{k}\\cdot\\mathbf{a_2}})\\quad \\gamma_3=-t(1+e^{i\\mathbf{k}\\cdot(\\mathbf{a_1}-\\mathbf{a_2})})\n",
    "$$\n",
    "Solve the eignvalues, we obtain\n",
    "\n",
    "$$\n",
    "\\lambda_1=2t\\quad \\lambda_{2,3}=-t\\pm t\\sqrt{3+2\\cos(k_1)+2\\cos(\\frac{1}{2}k_1)\\cos(\\frac{\\sqrt{3}}{2}k_2)}\n",
    "$$\n"
   ]
  },
  {
   "cell_type": "code",
   "execution_count": null,
   "id": "84ef5b79",
   "metadata": {
    "vscode": {
     "languageId": "plaintext"
    }
   },
   "outputs": [],
   "source": []
  },
  {
   "cell_type": "code",
   "execution_count": null,
   "id": "a506f546",
   "metadata": {
    "vscode": {
     "languageId": "plaintext"
    }
   },
   "outputs": [],
   "source": []
  }
 ],
 "metadata": {
  "language_info": {
   "name": "python"
  }
 },
 "nbformat": 4,
 "nbformat_minor": 5
}
