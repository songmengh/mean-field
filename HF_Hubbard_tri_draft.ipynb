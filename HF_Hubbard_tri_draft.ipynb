{
 "cells": [
  {
   "cell_type": "markdown",
   "metadata": {},
   "source": [
    "# Mean-field:  The Hartree-Fock (HF) Approximation\n",
    "## Triangular Latice Hubbard model\n",
    "\n",
    "This notebook contains breif notes and several sample codes of the HF approximation for pedagogical purpose. The following text and codes are prepared by Mr.[Ting-Tung Wang](https://quantummc.xyz/members/ting-tung-wang/), Mr.[Menghan Song](https://quantummc.xyz/members/menghan-song/) and [ZYM](https://quantummc.xyz/members/ziyang-meng/). \n",
    "\n",
    "In this notebook, we test the gradient decend method for the Hubbard model on the triangular lattice. One may want to review [HF for square lattice](https://colab.research.google.com/github/songmengh/mean-field/blob/main/HF_Hubbard_square.ipynb) for the detailed description of the algorithms.\n",
    "\n",
    "This note utilises the following useful references:\n",
    "1. [Mingpu Qin., arXiv:2110.12400(2022)](https://arxiv.org/abs/2110.12400)\n",
    "2. [Lechermann, Model Hamiltonians and Basic Techniques](https://www.researchgate.net/publication/299842893_Model_Hamiltonians_and_Basic_Techniques)\n",
    "3. [Hirsch, Phys. Rev. B 31, 4403 (1985)](https://journals.aps.org/prb/abstract/10.1103/PhysRevB.31.4403)\n",
    "4. [T. Hanisch, Annalen der Physik 507, 303 (1995)](https://onlinelibrary.wiley.com/doi/abs/10.1002/andp.19955070405)"
   ]
  },
  {
   "cell_type": "markdown",
   "metadata": {},
   "source": [
    "### 1. Hubbard model: Honeycomb Lattice\n",
    "\n",
    "Considering the half-filling case, the Hamiltonian of the hubbard model is,\n",
    "\n",
    "$$\n",
    "H=-t\\mathop{\\sum}\\limits_{\\langle i,j \\rangle \\sigma}c_{i\\sigma}^\\dagger c_{j\\sigma}+h.c.+U\\mathop{\\sum}\\limits_i (n_{i\\uparrow}-\\frac{1}{2})(n_{i\\downarrow}-\\frac{1}{2})=H_T+H_U  \\ \\ \\  (U>0),\n",
    "$$\n",
    "where $\\langle i,j \\rangle$ denotes the nearest neighbour hopping on the triangular lattice. \n",
    "\n",
    "The figure below shows the triangular lattice,\n",
    "\n",
    "\n",
    "<img src=\"https://raw.githubusercontent.com/songmengh/mean-field/main/figures/lattice_tri.png\" width=350 height=350/>\n",
    "\n",
    "Here, sites in different colors mean that they belong to different sublattices. There are 3 sublattices within which the translational invariance holds. And $\\vec{a_1} ,\\vec{a_2} $ are the two primitive vectors. $\\vec{a_1}= \\left ( -3/2, \\sqrt3/2 \\right ) ,\\vec{a_2}=\\left ( 3/2,\\sqrt3/2\\right )  $.\n",
    "\n",
    "For the free fermion case, i.e. $U=0$, the dispersion relation is given by:\n",
    "\n",
    "$$\n",
    "E_k=-2\\left(\\cos k_x+2 \\cos \\left(\\frac{k_x}{2}\\right) \\cos \\left(\\frac{\\sqrt{3} k_y}{2}\\right)\\right)\n",
    "$$ \n",
    "\n",
    "as shown in the plot below.\n",
    "\n",
    "<img src=\"https://raw.githubusercontent.com/songmengh/mean-field/main/figures/disp_tri.png\" width=300 height=300/>"
   ]
  },
  {
   "cell_type": "markdown",
   "metadata": {},
   "source": [
    "### 2. Hartree-Fock\n",
    "\n",
    "Similar to the sqaure and Honeycomb lattice, the HF Halmiltonian of the triangular lattice is written as:\n",
    "\n",
    "$$\n",
    "\\begin{aligned}\n",
    "H_{h f}=&-t \\sum_{\\langle i j\\rangle \\sigma} c_{i \\sigma}^{\\dagger} c_{j \\sigma}+U \\sum_i\\left(\\left\\langle n_{i \\uparrow}\\right\\rangle n_{i \\downarrow}+\\left\\langle n_{i \\downarrow}\\right\\rangle n_{i \\uparrow}\\right.\\\\\n",
    "&\\left.-\\left\\langle S_i^{+}\\right\\rangle S_i^{-}-\\left\\langle S_i^{-}\\right\\rangle S_i^{+}-\\left\\langle n_{i \\uparrow}\\right\\rangle\\left\\langle n_{i \\downarrow}\\right\\rangle+\\left\\langle S_i^{+}\\right\\rangle\\left\\langle S_i^{-}\\right\\rangle\\right).\n",
    "\\end{aligned}\n",
    "$$\n",
    "\n",
    "Here we need to include the spin exchange operators, $S_i^{+}=c_{i \\uparrow}^{\\dagger}c_{i \\downarrow}$, $S_i^{-}=c_{i \\downarrow}^{\\dagger}c_{i \\uparrow}$ which we used to ignore when dealing with square and HC lattice. The reason is that we preassume the anti-ferromagnetic order for square and HC lattice in which we can constrant the magnetization in $z$ direnction. However, triangle lattice is a Mott insulator with 120 degree spin order in the large $U$ limit, we can no longer assume all spins align in one direction. The figure below shows the 120 degree order in one primitive cell.\n",
    "\n",
    "<img src=\"https://raw.githubusercontent.com/songmengh/mean-field/main/figures/120order.png\" width=200 height=250/>\n",
    "\n",
    "Then we turn to the momentum space which allows us to study systems with larger sizes. The Hartree-Fock Hamiltonian in $k$ space for each $k$ point is a 6 by 6 matrix (3 sublattice and 2 spin values). \n",
    "\n",
    "$$\n",
    "H = -t \\sum_k\\left(\\begin{array}{lllllllll}\n",
    "c_{k \\uparrow}^{\\dagger A} & c_{k \\uparrow}^{\\dagger B} & c_{k \\uparrow}^{\\dagger C} & c_{k \\downarrow}^{\\dagger A} & c_{k \\downarrow}^{\\dagger B} & c_{k \\downarrow}^{\\dagger C}\n",
    "\\end{array}\\right)\\left[\\begin{array}{cccccc}\n",
    "\\frac{n_A-2 m_{A}^z}{2} U & A(k) & A^*(k) & -m_A^x U & 0 & 0 \\\\\n",
    "A^*(k) & \\frac{n_B-2 m_B^z}{2} U & A^A(k) & 0 & -m_B^x U & 0 \\\\\n",
    "A(k) & A^*(k) & \\frac{n_C-2 m_c^z}{2} U & 0 & 0 & -m_C^x U \\\\\n",
    "-m_A^x U & 0 & 0 & \\frac{n_A+2 m_{A}^z}{2} U & A(k) & A^*(k) \\\\\n",
    "0 & -m_B^x U & 0 & A^*(k) & \\frac{n_B+2 m_B^z}{2} U & A(k) \\\\\n",
    "0 & 0 & -m_C^x U & A(k) & A^*(k) & \\frac{n_C+2 m_c^z}{2} U\n",
    "\\end{array}\\right]\\left(\\begin{array}{l}\n",
    "c_{k \\uparrow}^A \\\\\n",
    "c_{k \\uparrow}^B \\\\\n",
    "c_{k \\uparrow}^C \\\\\n",
    "c_{k \\downarrow}^A \\\\\n",
    "c_{k \\downarrow}^B \\\\\n",
    "c_{k \\downarrow}^C\n",
    "\\end{array}\\right)\n",
    "$$\n",
    "\n",
    "with $A(k)= e^{ik\\delta_1}+e^{-ik\\delta_2}+e^{ik(\\delta_1-\\delta_2)}$ and $\\delta_1=a_1, \\delta_2=a_2$ where $a_1$, $a_2$ are the primitive vectors shown before. For the 120 degree order, we set $n_A=n_B=n_c=n/3$, $m_A^{z}=m, m_A^{x}=0, m_B^{z}=-m/2, m_B^{x}=-\\sqrt {3}m/2, m_C^{z}=-m/2, m_C^{x}=\\sqrt {3}m/2$"
   ]
  },
  {
   "cell_type": "code",
   "execution_count": 69,
   "metadata": {},
   "outputs": [],
   "source": [
    "import numpy as np\n",
    "import matplotlib.pyplot as plt\n",
    "import math"
   ]
  },
  {
   "cell_type": "code",
   "execution_count": 7,
   "metadata": {},
   "outputs": [],
   "source": [
    "def genH(H_T,a):\n",
    "    H = H_T\n",
    "    H[:,0,0] = -a\n",
    "    H[:,1,1] = a/2\n",
    "    H[:,2,2] = a/2\n",
    "    H[:,3,3] = a\n",
    "    H[:,4,4] = -a/2\n",
    "    H[:,5,5] = -a/2\n",
    "    H[:,1,4] = np.sqrt(3)/2*a\n",
    "    H[:,2,5] = -np.sqrt(3)/2*a\n",
    "    H[:,4,1] = np.sqrt(3)/2*a\n",
    "    H[:,5,2] = -np.sqrt(3)/2*a\n",
    "    return H\n",
    "    "
   ]
  },
  {
   "cell_type": "code",
   "execution_count": 8,
   "metadata": {},
   "outputs": [],
   "source": [
    "def blkeig(H,dHdm):\n",
    "    N = H.shape[0]\n",
    "    dedm = 0\n",
    "    P = np.zeros((6,6*N),dtype='complex')\n",
    "    D = np.zeros((6*N),dtype='complex')\n",
    "    for i in range(N):\n",
    "        eig_value,eig_vec = np.linalg.eig(H[i])\n",
    "        D[i*6:i*6+6] = eig_value\n",
    "        P[:,6*i:6*i+6] = eig_vec\n",
    "    idx_sort = np.argsort(D)\n",
    "    D = D[idx_sort]\n",
    "    P = P[:,idx_sort]\n",
    "    delta = np.real(D[3*N]-D[3*N-1]) #energy gap for half-filled\n",
    "    E_Fermi = np.real(D[3*N-1])\n",
    "    D = D[:3*N]\n",
    "    P = P[:3*N]\n",
    "    for i in range(3*N):\n",
    "        dedm += np.real(P[:,i].conjugate().T @ dHdm @ P[:,i])\n",
    "    e = np.real(sum(D))\n",
    "    dedm = np.real(dedm/(3*N))\n",
    "    e = e/(3*N)\n",
    "    \n",
    "    return e,dedm,delta,E_Fermi\n",
    "    "
   ]
  },
  {
   "cell_type": "code",
   "execution_count": 9,
   "metadata": {},
   "outputs": [],
   "source": [
    "def gendHdm(U):\n",
    "    dHdm = np.zeros((6,6))\n",
    "    dHdm[0,0]=-U\n",
    "    dHdm[1,1]=U/2\n",
    "    dHdm[2,2]=U/2\n",
    "    dHdm[3,3]=U\n",
    "    dHdm[4,4]=-U/2\n",
    "    dHdm[5,5]=-U/2\n",
    "    dHdm[1,4]=np.sqrt(3)/2*U\n",
    "    dHdm[2,5]=-np.sqrt(3)/2*U\n",
    "    dHdm[4,1]=np.sqrt(3)/2*U\n",
    "    dHdm[5,2]=-np.sqrt(3)/2*U\n",
    "    return dHdm"
   ]
  },
  {
   "cell_type": "code",
   "execution_count": 10,
   "metadata": {},
   "outputs": [],
   "source": [
    "Ulist = np.arange(4.4,6.4,0.05)\n",
    "Llist = [180]\n",
    "alpha = 0.1\n",
    "\n",
    "e_end = np.inf*np.ones((len(Llist),len(Ulist)))\n",
    "m_end = np.zeros((len(Llist),len(Ulist)))\n",
    "itr_end = np.zeros((len(Llist),len(Ulist)))\n",
    "delta_end = np.zeros((len(Llist),len(Ulist)))\n",
    "e_end = np.zeros((len(Llist),len(Ulist)))"
   ]
  },
  {
   "cell_type": "code",
   "execution_count": 11,
   "metadata": {
    "scrolled": true
   },
   "outputs": [],
   "source": [
    "for i in range(len(Llist)):\n",
    "    L = Llist[i]\n",
    "    N = L**2\n",
    "    Ne = 3*N #one unit cell 3 electrons\n",
    "    H_T = np.zeros((N,6,6),dtype='complex')\n",
    "    for j in range(N):\n",
    "        k = (np.mod(j,L)+1)*np.array([1/3,-np.sqrt(3)/3])+math.ceil((j+1)/L)*np.array([1/3,np.sqrt(3)/3])\n",
    "        k = k*2*np.pi/L\n",
    "        A = np.exp(1j*k@np.array([3/2,-np.sqrt(3)/2]))+np.exp(-1j*k@np.array([3/2,np.sqrt(3)/2]))+np.exp(1j*k@np.array([0,np.sqrt(3)]))\n",
    "        H_T[j,0,1]=A\n",
    "        H_T[j,0,2]=A.conjugate()\n",
    "        H_T[j,1,2]=A\n",
    "        H_T[j,3,4]=A\n",
    "        H_T[j,3,5]=A.conjugate()\n",
    "        H_T[j,4,5]=A\n",
    "        H_T[j,:,:]=H_T[j,:,:]+(H_T[j,:,:].conjugate()).T\n",
    "        \n",
    "    m = 0.005*np.random.random()\n",
    "    for k in range(len(Ulist)):\n",
    "        U=Ulist[k]\n",
    "        error = 1\n",
    "        itr=0\n",
    "        dHdm = gendHdm(U)\n",
    "        while abs(error)>10**-4:\n",
    "            a = m*U\n",
    "            H = genH(H_T,a)\n",
    "            e,dedm,non,non = blkeig(H,dHdm)\n",
    "            dedm = dedm+2*U*m\n",
    "            error = alpha*dedm\n",
    "            m -= error\n",
    "            itr+=1\n",
    "        m+=0.00001\n",
    "        error=1\n",
    "        while abs(error)>10**-8:\n",
    "            a = m*U\n",
    "            H = genH(H_T,a)\n",
    "            e,dedm,delta,non = blkeig(H,dHdm)\n",
    "            dedm+=2*U*m\n",
    "            error=alpha*dedm\n",
    "            m-=error\n",
    "            itr+=1\n",
    "        delta_end[i,k]=delta\n",
    "        m_end[i,k]=abs(m)\n",
    "        itr_end[i,k]=itr\n",
    "        e_end[i,k]=e\n",
    "\n",
    "        "
   ]
  },
  {
   "cell_type": "code",
   "execution_count": null,
   "metadata": {},
   "outputs": [],
   "source": [
    "np.save(file='m180.npy',arr=m_end)\n",
    "np.save(file='delta180.npy',arr=delta_end)\n",
    "np.save(file='itr180.npy',arr=itr_end)\n",
    "np.save(file='e180.npy',arr=e_end)"
   ]
  },
  {
   "cell_type": "markdown",
   "metadata": {},
   "source": [
    "As it can be seen, there are two phase transitions at half-filling by varying U values. [[1]](https://arxiv.org/abs/2110.12400) At $U ≈ 5.14$ we can find a first order transition. There is another phase transition at $U ≈ 4.8$. It is interesting to notice that the energy gap $\\Delta$ only opens for $U > U_{c2}$. Therefore, the 120 degree Mott insulartor phase only occurs for $U>U_{c2}$. Between $U_{c1}$ and $U_{c2}$, it was known that the ground state is a helis order with the wavevector varying with $U$. [[4]](https://onlinelibrary.wiley.com/doi/abs/10.1002/andp.19955070405) Note that HF approximation usually overestimates the magnitude of the order so the critical $U_{c2}$ here is smaller than the value from more accurate many-body calculations.[[1]](https://arxiv.org/abs/2110.12400)"
   ]
  },
  {
   "cell_type": "code",
   "execution_count": 68,
   "metadata": {},
   "outputs": [
    {
     "data": {
      "text/plain": [
       "Text(0, 0.5, 'm')"
      ]
     },
     "execution_count": 68,
     "metadata": {},
     "output_type": "execute_result"
    },
    {
     "data": {
      "image/png": "[encoded data removed]",
      "text/plain": [
       "<Figure size 720x360 with 2 Axes>"
      ]
     },
     "metadata": {
      "needs_background": "light"
     },
     "output_type": "display_data"
    }
   ],
   "source": [
    "m_end = np.load('m180.npy')\n",
    "delta_end= np.load('delta180.npy')\n",
    "itr_end = np.load('itr180.npy')\n",
    "e_end = np.load('e180.npy')\n",
    "\n",
    "\n",
    "fig, (ax1, ax2) = plt.subplots(1, 2, figsize=(10, 5))\n",
    "\n",
    "ax1 = plt.subplot(1,2,1)\n",
    "ax1.scatter(Ulist,m_end[0],marker='o',color='r')\n",
    "ax1.plot(Ulist,m_end[0],linestyle='-',color='r')\n",
    "ax1.vlines(4.8,0,0.5,linestyles='-.',label='$U_{c1} = 4.8$')\n",
    "ax1.vlines(5.14,0,0.5,linestyles='-.',label='$U_{c2} = 5.14$')\n",
    "ax1.legend()\n",
    "ax1.set_xlabel('U')\n",
    "ax1.set_ylabel('m')\n",
    "\n",
    "\n",
    "ax2=plt.subplot(1,2,2)\n",
    "ax2.scatter(Ulist,delta_end[0],marker='o',color='r')\n",
    "ax2.plot(Ulist,delta_end[0],linestyle='-',color='r')\n",
    "#plt.vlines(4.8,0,0.5,linestyles='-.',label='$U_{c1}$')\n",
    "ax2.vlines(5.14,0,1.2,linestyles='-.',label='$U_{c2}=5.14$')\n",
    "ax2.legend()\n",
    "ax2.set_xlabel('U')\n",
    "ax2.set_ylabel('m')"
   ]
  },
  {
   "cell_type": "markdown",
   "metadata": {},
   "source": [
    "# To be continued ..."
   ]
  },
  {
   "cell_type": "code",
   "execution_count": null,
   "metadata": {},
   "outputs": [],
   "source": []
  }
 ],
 "metadata": {
  "kernelspec": {
   "display_name": "Python 3",
   "language": "python",
   "name": "python3"
  },
  "language_info": {
   "codemirror_mode": {
    "name": "ipython",
    "version": 3
   },
   "file_extension": ".py",
   "mimetype": "text/x-python",
   "name": "python",
   "nbconvert_exporter": "python",
   "pygments_lexer": "ipython3",
   "version": "3.8.5"
  }
 },
 "nbformat": 4,
 "nbformat_minor": 4
}
